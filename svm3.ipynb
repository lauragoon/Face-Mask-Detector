{
  "nbformat": 4,
  "nbformat_minor": 0,
  "metadata": {
    "colab": {
      "name": "svm2.ipynb",
      "provenance": [],
      "collapsed_sections": [],
      "include_colab_link": true
    },
    "kernelspec": {
      "name": "python3",
      "display_name": "Python 3"
    },
    "accelerator": "GPU"
  },
  "cells": [
    {
      "cell_type": "markdown",
      "metadata": {
        "id": "view-in-github",
        "colab_type": "text"
      },
      "source": [
        "<a href=\"https://colab.research.google.com/github/lauragoon/Face-Mask-Detector/blob/main/svm3.ipynb\" target=\"_parent\"><img src=\"https://colab.research.google.com/assets/colab-badge.svg\" alt=\"Open In Colab\"/></a>"
      ]
    },
    {
      "cell_type": "code",
      "metadata": {
        "colab": {
          "base_uri": "https://localhost:8080/"
        },
        "id": "pR25sYCckYRD",
        "outputId": "3a2514a6-d5b1-4135-c9fe-3fa87e692662"
      },
      "source": [
        "from google.colab import drive\n",
        "drive.mount('/content/drive')"
      ],
      "execution_count": 1,
      "outputs": [
        {
          "output_type": "stream",
          "text": [
            "Drive already mounted at /content/drive; to attempt to forcibly remount, call drive.mount(\"/content/drive\", force_remount=True).\n"
          ],
          "name": "stdout"
        }
      ]
    },
    {
      "cell_type": "code",
      "metadata": {
        "id": "2BznO3QwkeCm"
      },
      "source": [
        "import matplotlib.pyplot as plt\n",
        "import numpy as np\n",
        "\n",
        "import tensorflow as tf\n",
        "import keras\n",
        "from tensorflow.keras import datasets, layers, models\n",
        "from keras.preprocessing import image\n",
        "from keras.applications.resnet50 import ResNet50\n",
        "\n",
        "from sklearn import svm\n",
        "from sklearn.model_selection import GridSearchCV\n",
        "\n",
        "from skimage.io import imread\n",
        "from skimage.transform import resize"
      ],
      "execution_count": 2,
      "outputs": []
    },
    {
      "cell_type": "code",
      "metadata": {
        "id": "htdopB27lpSt"
      },
      "source": [
        "def get_data(batch_size, directory):\n",
        "  \n",
        "  datagen = image.ImageDataGenerator()\n",
        "  dta = datagen.flow_from_directory(directory, class_mode='binary', batch_size=batch_size)\n",
        "\n",
        "  return dta"
      ],
      "execution_count": 3,
      "outputs": []
    },
    {
      "cell_type": "code",
      "metadata": {
        "colab": {
          "base_uri": "https://localhost:8080/"
        },
        "id": "APKg1uQ9kd2f",
        "outputId": "4c85b8f2-7f2e-4e5d-e13a-744fe452d700"
      },
      "source": [
        "## generate data\n",
        "train_path = 'drive/Shared drives/DSCI 303 Final Project/ImageDataset2/training'\n",
        "test_path = 'drive/Shared drives/DSCI 303 Final Project/ImageDataset2/test'\n",
        "\n",
        "train_data = get_data(1000, train_path)\n",
        "test_data = get_data(500, test_path)\n",
        "\n",
        "train_batch_images, train_batch_class = train_data.next()\n",
        "test_batch_images, test_batch_class = test_data.next()\n",
        "\n",
        "## pre-trained neural network to extract features\n",
        "nn_model = ResNet50(input_shape=(256,256,3),\n",
        "                    weights='imagenet',\n",
        "                    include_top=False,\n",
        "                    pooling='avg')\n",
        "\n",
        "## feature extraction\n",
        "img_features = nn_model.predict(train_batch_images).T"
      ],
      "execution_count": 17,
      "outputs": [
        {
          "output_type": "stream",
          "text": [
            "Found 6804 images belonging to 2 classes.\n",
            "Found 2228 images belonging to 2 classes.\n"
          ],
          "name": "stdout"
        }
      ]
    },
    {
      "cell_type": "code",
      "metadata": {
        "id": "AztW4OdplA1K"
      },
      "source": [
        "## pre-trained neural network to extract features\n",
        "nn_model_test = ResNet50(input_shape=(256,256,3),\n",
        "                    weights='imagenet',\n",
        "                    include_top=False,\n",
        "                    pooling='avg')\n",
        "\n",
        "## feature extraction\n",
        "test_img_features = nn_model_test.predict(test_batch_images).T"
      ],
      "execution_count": 18,
      "outputs": []
    },
    {
      "cell_type": "code",
      "metadata": {
        "id": "cBTX46Czllxu",
        "colab": {
          "base_uri": "https://localhost:8080/"
        },
        "outputId": "1fb451e9-08ea-4c22-92f2-30da74b43438"
      },
      "source": [
        "param_grid = [\n",
        "  {'C': [1, 10, 100, 1000], 'kernel': ['linear']},\n",
        "  {'C': [1, 10, 100, 1000], 'gamma': [0.001, 0.0001], 'kernel': ['rbf']},\n",
        " ]\n",
        "svc = svm.SVC()\n",
        "clf = GridSearchCV(svc, param_grid, verbose=1)\n",
        "clf.fit(np.transpose(img_features), train_batch_class)\n",
        "\n",
        "y_pred = clf.predict(np.transpose(test_img_features))\n"
      ],
      "execution_count": 19,
      "outputs": [
        {
          "output_type": "stream",
          "text": [
            "Fitting 5 folds for each of 12 candidates, totalling 60 fits\n"
          ],
          "name": "stdout"
        },
        {
          "output_type": "stream",
          "text": [
            "[Parallel(n_jobs=1)]: Using backend SequentialBackend with 1 concurrent workers.\n",
            "[Parallel(n_jobs=1)]: Done  60 out of  60 | elapsed:   20.3s finished\n"
          ],
          "name": "stderr"
        }
      ]
    },
    {
      "cell_type": "code",
      "metadata": {
        "id": "1eZCahCyp8QH",
        "colab": {
          "base_uri": "https://localhost:8080/"
        },
        "outputId": "5586e647-3cb3-453d-da0b-770a208330e2"
      },
      "source": [
        "num_data = len(y_pred)\n",
        "\n",
        "accuracy = 0\n",
        "\n",
        "for i in range(num_data):\n",
        "    if y_pred[i] == test_batch_class[i]:\n",
        "        accuracy += 1\n",
        "\n",
        "print(accuracy / num_data)"
      ],
      "execution_count": 20,
      "outputs": [
        {
          "output_type": "stream",
          "text": [
            "0.998\n"
          ],
          "name": "stdout"
        }
      ]
    },
    {
      "cell_type": "code",
      "metadata": {
        "id": "wgfj4rW4X1Fh"
      },
      "source": [
        "# reference: https://github.com/whimian/SVM-Image-Classification/blob/master/Image%20Classification%20using%20scikit-learn.ipynb"
      ],
      "execution_count": null,
      "outputs": []
    }
  ]
}
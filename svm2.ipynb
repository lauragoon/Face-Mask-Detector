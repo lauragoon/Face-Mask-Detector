{
  "nbformat": 4,
  "nbformat_minor": 0,
  "metadata": {
    "colab": {
      "name": "svm2.ipynb",
      "provenance": [],
      "collapsed_sections": [],
      "include_colab_link": true
    },
    "kernelspec": {
      "name": "python3",
      "display_name": "Python 3"
    },
    "accelerator": "GPU"
  },
  "cells": [
    {
      "cell_type": "markdown",
      "metadata": {
        "id": "view-in-github",
        "colab_type": "text"
      },
      "source": [
        "<a href=\"https://colab.research.google.com/github/lauragoon/Face-Mask-Detector/blob/main/svm2.ipynb\" target=\"_parent\"><img src=\"https://colab.research.google.com/assets/colab-badge.svg\" alt=\"Open In Colab\"/></a>"
      ]
    },
    {
      "cell_type": "code",
      "metadata": {
        "colab": {
          "base_uri": "https://localhost:8080/"
        },
        "id": "pR25sYCckYRD",
        "outputId": "d5e77ae4-1446-4155-b66c-e1c2221ba256"
      },
      "source": [
        "from google.colab import drive\n",
        "drive.mount('/content/drive')"
      ],
      "execution_count": 1,
      "outputs": [
        {
          "output_type": "stream",
          "text": [
            "Mounted at /content/drive\n"
          ],
          "name": "stdout"
        }
      ]
    },
    {
      "cell_type": "code",
      "metadata": {
        "id": "2BznO3QwkeCm"
      },
      "source": [
        "import matplotlib.pyplot as plt\n",
        "import numpy as np\n",
        "\n",
        "import tensorflow as tf\n",
        "import keras\n",
        "from tensorflow.keras import datasets, layers, models\n",
        "from keras.preprocessing import image\n",
        "from keras.applications.resnet50 import ResNet50\n",
        "# from keras.layers import Conv2D, MaxPooling2D, Flatten, Dense, Dropout, InputLayer\n",
        "# from keras.models import Model\n",
        "# from keras import optimizers\n",
        "\n",
        "from sklearn import svm\n",
        "from sklearn.model_selection import GridSearchCV\n",
        "\n",
        "from skimage.io import imread\n",
        "from skimage.transform import resize"
      ],
      "execution_count": 2,
      "outputs": []
    },
    {
      "cell_type": "code",
      "metadata": {
        "id": "htdopB27lpSt"
      },
      "source": [
        "def get_data(batch_size, directory):\n",
        "  \n",
        "  datagen = image.ImageDataGenerator()\n",
        "  dta = datagen.flow_from_directory(directory, class_mode='binary', batch_size=batch_size)\n",
        "\n",
        "  return dta"
      ],
      "execution_count": 4,
      "outputs": []
    },
    {
      "cell_type": "code",
      "metadata": {
        "colab": {
          "base_uri": "https://localhost:8080/"
        },
        "id": "APKg1uQ9kd2f",
        "outputId": "ccd5b002-e196-4bd0-efb4-31f502cbe504"
      },
      "source": [
        "## generate data\n",
        "train_path = 'drive/Shared drives/DSCI 303 Final Project/ImageDataset2/training'\n",
        "test_path = 'drive/Shared drives/DSCI 303 Final Project/ImageDataset2/test'\n",
        "\n",
        "train_data = get_data(500, train_path)\n",
        "test_data = get_data(100, test_path)\n",
        "\n",
        "train_batch_images, train_batch_class = train_data.next()\n",
        "test_batch_images, test_batch_class = test_data.next()\n",
        "\n",
        "## pre-trained neural network to extract features\n",
        "nn_model = ResNet50(input_shape=(256,256,3),\n",
        "                    weights='imagenet',\n",
        "                    include_top=False,\n",
        "                    pooling='avg')\n",
        "\n",
        "## feature extraction\n",
        "img_features = nn_model.predict(train_batch_images).T"
      ],
      "execution_count": 5,
      "outputs": [
        {
          "output_type": "stream",
          "text": [
            "Found 7522 images belonging to 2 classes.\n",
            "Found 1012 images belonging to 2 classes.\n",
            "Downloading data from https://storage.googleapis.com/tensorflow/keras-applications/resnet/resnet50_weights_tf_dim_ordering_tf_kernels_notop.h5\n",
            "94773248/94765736 [==============================] - 1s 0us/step\n"
          ],
          "name": "stdout"
        }
      ]
    },
    {
      "cell_type": "code",
      "metadata": {
        "id": "XDNWGoDHqx2a"
      },
      "source": [
        "flat_data = []\n",
        "images = []\n",
        "for i in train_batch_images:\n",
        "  img_resized = resize(train_batch_images[0], (256, 256), anti_aliasing=True, mode='reflect')\n",
        "  flat_data.append(img_resized.flatten()) \n",
        "flat_data = np.array(flat_data)\n"
      ],
      "execution_count": 6,
      "outputs": []
    },
    {
      "cell_type": "code",
      "metadata": {
        "id": "cWfPy_aqJKmN"
      },
      "source": [
        "test_flat_data = []\n",
        "test_images = []\n",
        "for i in test_batch_images:\n",
        "  img_resized = resize(test_batch_images[0], (256, 256), anti_aliasing=True, mode='reflect')\n",
        "  test_flat_data.append(img_resized.flatten()) \n",
        "test_flat_data = np.array(test_flat_data)"
      ],
      "execution_count": 9,
      "outputs": []
    },
    {
      "cell_type": "code",
      "metadata": {
        "id": "cBTX46Czllxu"
      },
      "source": [
        "param_grid = [\n",
        "  {'C': [1, 10, 100, 1000], 'kernel': ['linear']},\n",
        "  {'C': [1, 10, 100, 1000], 'gamma': [0.001, 0.0001], 'kernel': ['rbf']},\n",
        " ]\n",
        "svc = svm.SVC()\n",
        "clf = GridSearchCV(svc, param_grid)\n",
        "clf.fit(flat_data, train_batch_class)\n",
        "\n",
        "y_pred = clf.predict(test_flat_data)\n"
      ],
      "execution_count": 10,
      "outputs": []
    },
    {
      "cell_type": "code",
      "metadata": {
        "id": "1eZCahCyp8QH",
        "colab": {
          "base_uri": "https://localhost:8080/"
        },
        "outputId": "7a820989-257e-40dd-c10a-979ac4814eab"
      },
      "source": [
        "num_data = len(y_pred)\n",
        "\n",
        "accuracy = 0\n",
        "\n",
        "for i in range(num_data):\n",
        "    if y_pred[i] == test_batch_class[i]:\n",
        "        accuracy += 1\n",
        "\n",
        "print(accuracy / num_data)"
      ],
      "execution_count": 12,
      "outputs": [
        {
          "output_type": "stream",
          "text": [
            "0.92\n"
          ],
          "name": "stdout"
        }
      ]
    },
    {
      "cell_type": "code",
      "metadata": {
        "id": "wgfj4rW4X1Fh"
      },
      "source": [
        "# reference: https://github.com/whimian/SVM-Image-Classification/blob/master/Image%20Classification%20using%20scikit-learn.ipynb"
      ],
      "execution_count": null,
      "outputs": []
    }
  ]
}
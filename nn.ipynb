{
  "nbformat": 4,
  "nbformat_minor": 0,
  "metadata": {
    "colab": {
      "name": "nn.ipynb",
      "provenance": [],
      "collapsed_sections": [],
      "include_colab_link": true
    },
    "kernelspec": {
      "name": "python3",
      "display_name": "Python 3"
    },
    "accelerator": "GPU"
  },
  "cells": [
    {
      "cell_type": "markdown",
      "metadata": {
        "id": "view-in-github",
        "colab_type": "text"
      },
      "source": [
        "<a href=\"https://colab.research.google.com/github/lauragoon/Face-Mask-Detector/blob/main/nn.ipynb\" target=\"_parent\"><img src=\"https://colab.research.google.com/assets/colab-badge.svg\" alt=\"Open In Colab\"/></a>"
      ]
    },
    {
      "cell_type": "code",
      "metadata": {
        "id": "i4_LkxuDrkMN",
        "outputId": "2cc9ec0d-fc76-4389-f125-d3a891acd3e2",
        "colab": {
          "base_uri": "https://localhost:8080/"
        }
      },
      "source": [
        "from google.colab import drive\n",
        "drive.mount('/content/drive')"
      ],
      "execution_count": 2,
      "outputs": [
        {
          "output_type": "stream",
          "text": [
            "Mounted at /content/drive\n"
          ],
          "name": "stdout"
        }
      ]
    },
    {
      "cell_type": "code",
      "metadata": {
        "id": "Z7a1exAj7hyr"
      },
      "source": [
        "!pip install onedrivesdk"
      ],
      "execution_count": null,
      "outputs": []
    },
    {
      "cell_type": "code",
      "metadata": {
        "id": "h8WWWqwqrIrq"
      },
      "source": [
        "import tensorflow as tf\n",
        "from tensorflow.keras import datasets, layers, models\n",
        "import numpy as np\n",
        "from keras.preprocessing import image\n",
        "import matplotlib.pyplot as plt\n",
        "import onedrivesdk"
      ],
      "execution_count": 3,
      "outputs": []
    },
    {
      "cell_type": "code",
      "metadata": {
        "id": "zrJ6FVRQrQWi"
      },
      "source": [
        "def get_data(batch_size, directory):\n",
        "  \n",
        "  datagen = image.ImageDataGenerator()\n",
        "  dta = datagen.flow_from_directory(directory, class_mode='binary', batch_size=100)\n",
        "\n",
        "  return dta"
      ],
      "execution_count": 4,
      "outputs": []
    },
    {
      "cell_type": "code",
      "metadata": {
        "id": "CFRZ12657XaF"
      },
      "source": [
        "# reference: https://stackoverflow.com/questions/55729963/is-there-a-way-to-access-data-from-one-drive-using-google-colab\n",
        "def get_onedrive_data(lnk):\n",
        "    # TODO: modify\n",
        "    redirect_uri = 'http://localhost:8080/' client_secret = 'your_client_secret' client_id='your_client_id' api_base_url='https://api.onedrive.com/v1.0/' \n",
        "    scopes=['wl.signin', 'wl.offline_access', 'onedrive.readwrite'] \n",
        "    http_provider = onedrivesdk.HttpProvider() \n",
        "    auth_provider = onedrivesdk.AuthProvider( http_provider=http_provider, client_id=client_id, scopes=scopes) \n",
        "    client = onedrivesdk.OneDriveClient(api_base_url, auth_provider, http_provider) \n",
        "    auth_url = client.auth_provider.get_auth_url(redirect_uri) \n",
        "\n",
        "    # Ask for the code \n",
        "    print('Paste this URL into your browser, approve the app\\'s access.') \n",
        "    print('Copy everything in the address bar after \"code=\", and paste it below.') print(auth_url) \n",
        "    code = input('Paste code here: ')  client.auth_provider.authenticate(code, redirect_uri, client_secret)\n",
        "\n",
        "    root_folder = client.item(drive='me', id='root').children.get() \n",
        "    id_of_file = root_folder[0].id client.item(drive='me', id=id_of_file).download('./path_to_file')"
      ],
      "execution_count": null,
      "outputs": []
    },
    {
      "cell_type": "code",
      "metadata": {
        "id": "CZ4RWDiptPL2"
      },
      "source": [
        "# cnn model\n",
        "# with our input image shape of (256, 256, 3)\n",
        "def build_cnn():\n",
        "    mod = models.Sequential()\n",
        "\n",
        "    mod.add(layers.Conv2D(64, (5, 5), activation='relu', input_shape=(256, 256, 3)))\n",
        "    mod.add(layers.MaxPooling2D((5, 5)))\n",
        "    mod.add(layers.Conv2D(128, (5, 5), activation='relu'))\n",
        "    mod.add(layers.MaxPooling2D((5, 5)))\n",
        "    mod.add(layers.Conv2D(128, (5, 5), activation='relu'))\n",
        "\n",
        "    mod.add(layers.Flatten())\n",
        "    mod.add(layers.Dense(64, activation='relu'))\n",
        "    mod.add(layers.Dense(10))\n",
        "\n",
        "    mod.summary()\n",
        "\n",
        "    return mod"
      ],
      "execution_count": 21,
      "outputs": []
    },
    {
      "cell_type": "code",
      "metadata": {
        "id": "LAlUA5y9vcKd"
      },
      "source": [
        "# train cnn\n",
        "def train_cnn(mod, train_images, train_class, test_images, test_class):\n",
        "    mod.compile(optimizer='adam', loss=tf.keras.losses.SparseCategoricalCrossentropy(from_logits=True), metrics=['accuracy'])\n",
        "    fitted = mod.fit(train_images, train_class, epochs=9, validation_data=(test_images, test_class))\n",
        "    return fitted"
      ],
      "execution_count": 26,
      "outputs": []
    },
    {
      "cell_type": "code",
      "metadata": {
        "id": "9IaTTmdFrTab",
        "outputId": "5026c5a9-4495-4814-bfa6-861d5b2e6c76",
        "colab": {
          "base_uri": "https://localhost:8080/",
          "height": 1000
        }
      },
      "source": [
        "## generate data\n",
        "train_path = 'drive/Shared drives/DSCI 303 Final Project/ImageDataset/training'\n",
        "test_path = 'drive/Shared drives/DSCI 303 Final Project/ImageDataset/test'\n",
        "\n",
        "train_data = get_data(6000, train_path)\n",
        "test_data = get_data(500, test_path)\n",
        "\n",
        "train_batch_images, train_batch_class = train_data.next()\n",
        "test_batch_images, test_batch_class = test_data.next()\n",
        "\n",
        "print(\"batched training and test\")\n",
        "\n",
        "## construct cnn\n",
        "cnn_mod = build_cnn()\n",
        "\n",
        "print(\"constructed cnn\")\n",
        "\n",
        "## train cnn\n",
        "cnn_trained = train_cnn(cnn_mod, train_batch_images, train_batch_class, test_batch_images, test_batch_class)\n",
        "\n",
        "print(\"trained cnn\")\n",
        "\n",
        "## evaluate cnn\n",
        "plt.plot(cnn_trained.history['accuracy'], label='accuracy')\n",
        "plt.plot(cnn_trained.history['val_accuracy'], label = 'val_accuracy')\n",
        "plt.xlabel('Epoch')\n",
        "plt.ylabel('Accuracy')\n",
        "plt.ylim([0.5, 1])\n",
        "plt.legend(loc='upper left')\n",
        "\n",
        "test_loss, test_acc = cnn_mod.evaluate(test_batch_images, test_batch_class, verbose=2)\n",
        "print(test_acc)"
      ],
      "execution_count": 29,
      "outputs": [
        {
          "output_type": "stream",
          "text": [
            "Found 1026 images belonging to 2 classes.\n",
            "Found 169 images belonging to 2 classes.\n",
            "batched training and test\n",
            "Model: \"sequential_12\"\n",
            "_________________________________________________________________\n",
            "Layer (type)                 Output Shape              Param #   \n",
            "=================================================================\n",
            "conv2d_36 (Conv2D)           (None, 252, 252, 64)      4864      \n",
            "_________________________________________________________________\n",
            "max_pooling2d_24 (MaxPooling (None, 50, 50, 64)        0         \n",
            "_________________________________________________________________\n",
            "conv2d_37 (Conv2D)           (None, 46, 46, 128)       204928    \n",
            "_________________________________________________________________\n",
            "max_pooling2d_25 (MaxPooling (None, 9, 9, 128)         0         \n",
            "_________________________________________________________________\n",
            "conv2d_38 (Conv2D)           (None, 5, 5, 128)         409728    \n",
            "_________________________________________________________________\n",
            "flatten_12 (Flatten)         (None, 3200)              0         \n",
            "_________________________________________________________________\n",
            "dense_24 (Dense)             (None, 64)                204864    \n",
            "_________________________________________________________________\n",
            "dense_25 (Dense)             (None, 10)                650       \n",
            "=================================================================\n",
            "Total params: 825,034\n",
            "Trainable params: 825,034\n",
            "Non-trainable params: 0\n",
            "_________________________________________________________________\n",
            "constructed cnn\n",
            "Epoch 1/9\n",
            "2/4 [==============>...............] - ETA: 0s - loss: 61.0630 - accuracy: 0.2500    WARNING:tensorflow:Callbacks method `on_train_batch_end` is slow compared to the batch time (batch time: 0.0276s vs `on_train_batch_end` time: 0.0424s). Check your callbacks.\n",
            "4/4 [==============================] - 0s 102ms/step - loss: 139.4352 - accuracy: 0.2900 - val_loss: 8.4348 - val_accuracy: 0.2800\n",
            "Epoch 2/9\n",
            "4/4 [==============================] - 0s 58ms/step - loss: 5.8634 - accuracy: 0.4400 - val_loss: 0.7938 - val_accuracy: 0.6000\n",
            "Epoch 3/9\n",
            "4/4 [==============================] - 0s 55ms/step - loss: 1.1672 - accuracy: 0.5900 - val_loss: 0.7208 - val_accuracy: 0.5600\n",
            "Epoch 4/9\n",
            "4/4 [==============================] - 0s 57ms/step - loss: 0.6699 - accuracy: 0.6200 - val_loss: 0.7352 - val_accuracy: 0.5000\n",
            "Epoch 5/9\n",
            "4/4 [==============================] - 0s 53ms/step - loss: 0.6292 - accuracy: 0.6600 - val_loss: 0.7490 - val_accuracy: 0.5600\n",
            "Epoch 6/9\n",
            "4/4 [==============================] - 0s 56ms/step - loss: 0.6086 - accuracy: 0.6100 - val_loss: 0.6061 - val_accuracy: 0.8200\n",
            "Epoch 7/9\n",
            "4/4 [==============================] - 0s 56ms/step - loss: 0.4672 - accuracy: 0.8500 - val_loss: 0.5695 - val_accuracy: 0.8400\n",
            "Epoch 8/9\n",
            "4/4 [==============================] - 0s 56ms/step - loss: 0.3914 - accuracy: 0.8400 - val_loss: 0.5050 - val_accuracy: 0.8800\n",
            "Epoch 9/9\n",
            "4/4 [==============================] - 0s 53ms/step - loss: 0.3299 - accuracy: 0.8500 - val_loss: 0.4541 - val_accuracy: 0.8900\n",
            "trained cnn\n",
            "4/4 - 0s - loss: 0.4541 - accuracy: 0.8900\n",
            "0.8899999856948853\n"
          ],
          "name": "stdout"
        },
        {
          "output_type": "display_data",
          "data": {
            "image/png": "[encoded data removed]",
            "text/plain": [
              "<Figure size 432x288 with 1 Axes>"
            ]
          },
          "metadata": {
            "tags": [],
            "needs_background": "light"
          }
        }
      ]
    },
    {
      "cell_type": "code",
      "metadata": {
        "id": "pSXyHnG8-XX3"
      },
      "source": [
        "# reference: https://stackoverflow.com/questions/55729963/is-there-a-way-to-access-data-from-one-drive-using-google-colab, https://www.tensorflow.org/tutorials/images/cnn"
      ],
      "execution_count": null,
      "outputs": []
    }
  ]
}
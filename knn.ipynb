{
  "nbformat": 4,
  "nbformat_minor": 0,
  "metadata": {
    "colab": {
      "name": "knn attempt 2.ipynb",
      "provenance": [],
      "collapsed_sections": [],
      "include_colab_link": true
    },
    "kernelspec": {
      "name": "python3",
      "display_name": "Python 3"
    },
    "accelerator": "GPU"
  },
  "cells": [
    {
      "cell_type": "markdown",
      "metadata": {
        "id": "view-in-github",
        "colab_type": "text"
      },
      "source": [
        "<a href=\"https://colab.research.google.com/github/lauragoon/Face-Mask-Detector/blob/main/knn.ipynb\" target=\"_parent\"><img src=\"https://colab.research.google.com/assets/colab-badge.svg\" alt=\"Open In Colab\"/></a>"
      ]
    },
    {
      "cell_type": "code",
      "metadata": {
        "id": "Q5yMOGtKIvG0",
        "outputId": "f538445e-87ba-4aaf-8229-9b70538d17e0",
        "colab": {
          "base_uri": "https://localhost:8080/"
        }
      },
      "source": [
        "from google.colab import drive\n",
        "drive.mount('/content/drive')"
      ],
      "execution_count": 1,
      "outputs": [
        {
          "output_type": "stream",
          "text": [
            "Mounted at /content/drive\n"
          ],
          "name": "stdout"
        }
      ]
    },
    {
      "cell_type": "code",
      "metadata": {
        "id": "Y3ECrQo2i3vM"
      },
      "source": [
        "import tensorflow as tf\n",
        "import numpy as np\n",
        "from keras.preprocessing import image\n",
        "from keras.applications.resnet50 import ResNet50, preprocess_input\n",
        "from keras.layers import Dense, Reshape\n",
        "from keras.models import Model\n",
        "import matplotlib.pyplot as plt"
      ],
      "execution_count": 2,
      "outputs": []
    },
    {
      "cell_type": "code",
      "metadata": {
        "id": "Regd9dNTKl6y"
      },
      "source": [
        "def get_data(batch_size, directory):\n",
        "  \n",
        "  datagen = image.ImageDataGenerator()\n",
        "  dta = datagen.flow_from_directory(directory, class_mode='binary', batch_size=100)\n",
        "\n",
        "  return dta"
      ],
      "execution_count": 3,
      "outputs": []
    },
    {
      "cell_type": "code",
      "metadata": {
        "id": "NrSRp2GRY81F"
      },
      "source": [
        "def knn(model, output_size):\n",
        "    vector = np.prod(model.output_shape[1:])\n",
        "    x = Reshape(target_shape=(vector,))(model.output)\n",
        "    x = Dense(units=output_size, activation='linear', use_bias=False)(x)             \n",
        "    knn_model = Model(inputs=[model.input], outputs=x)\n",
        "    return knn_model"
      ],
      "execution_count": 4,
      "outputs": []
    },
    {
      "cell_type": "code",
      "metadata": {
        "id": "rktdZy6EY-sE"
      },
      "source": [
        "def normalize_vectors(vectors):\n",
        "    norms = np.linalg.norm(vectors, axis=0)\n",
        "    return vectors / norms"
      ],
      "execution_count": 5,
      "outputs": []
    },
    {
      "cell_type": "code",
      "metadata": {
        "id": "qyPI32m2lQFz"
      },
      "source": [
        "def model_accuracy(k, model, test_batch_images, test_batch_class, train_batch_class):\n",
        "  prediction = []\n",
        "  for i in test_batch_images:\n",
        "      im = np.expand_dims(i, axis=0)\n",
        "      im = preprocess_input(im)\n",
        "      result = joined_model.predict([im]).reshape(-1)\n",
        "      result = result.argsort()[-k:][::-1]\n",
        "      result_class = []\n",
        "      for j in result:\n",
        "          result_class.append(train_batch_class[j])\n",
        "      sum_result = round(sum(result_class) / k)\n",
        "      prediction.append(sum_result)\n",
        "\n",
        "  accuracy = 0\n",
        "  for i in range(len(test_batch_class)):\n",
        "    if prediction[i] == test_batch_class[i]:\n",
        "      accuracy += 1\n",
        "\n",
        "  return accuracy/len(test_batch_class)"
      ],
      "execution_count": 12,
      "outputs": []
    },
    {
      "cell_type": "code",
      "metadata": {
        "id": "zkRW8Ey1vz17",
        "outputId": "d6e19c99-453c-4d97-a66f-b084af002542",
        "colab": {
          "base_uri": "https://localhost:8080/",
          "height": 435
        }
      },
      "source": [
        "## generate data\n",
        "train_path = 'drive/Shared drives/DSCI 303 Final Project/ImageDataset/training'\n",
        "test_path = 'drive/Shared drives/DSCI 303 Final Project/ImageDataset/test'\n",
        "\n",
        "train_data = get_data(100, train_path)\n",
        "test_data = get_data(50, test_path)\n",
        "\n",
        "train_batch_images, train_batch_class = train_data.next()\n",
        "test_batch_images, test_batch_class = test_data.next()\n",
        "\n",
        "## pre-trained neural network to extract features\n",
        "nn_model = ResNet50(input_shape=(256,256,3),\n",
        "                    weights='imagenet',\n",
        "                    include_top=False,\n",
        "                    pooling='avg')\n",
        "\n",
        "## feature extraction\n",
        "img_features = nn_model.predict(train_batch_images).T\n",
        "\n",
        "print('finished feature extraction')\n",
        "\n",
        "## create knn model\n",
        "joined_model = knn(nn_model, img_features.shape[1])\n",
        "\n",
        "## normalize features\n",
        "norm_img_features = normalize_vectors(img_features)\n",
        "\n",
        "## set model weights\n",
        "weights = joined_model.get_weights()\n",
        "weights[-1] = norm_img_features\n",
        "joined_model.set_weights(weights)\n",
        "\n",
        "print('built model')\n",
        "\n",
        "## graph k vs accuracy\n",
        "x = [4*i+3 for i in range(5)]\n",
        "y = []\n",
        "\n",
        "for k in x:\n",
        "  y.append(model_accuracy(k, joined_model, test_batch_images, test_batch_class, train_batch_class))\n",
        "  print('plot k=', k)\n",
        "\n",
        "plt.plot(x,y)\n"
      ],
      "execution_count": 15,
      "outputs": [
        {
          "output_type": "stream",
          "text": [
            "Found 1026 images belonging to 2 classes.\n",
            "Found 169 images belonging to 2 classes.\n",
            "finished feature extraction\n",
            "built model\n",
            "plot k= 3\n",
            "plot k= 7\n",
            "plot k= 11\n",
            "plot k= 15\n",
            "plot k= 19\n"
          ],
          "name": "stdout"
        },
        {
          "output_type": "execute_result",
          "data": {
            "text/plain": [
              "[<matplotlib.lines.Line2D at 0x7f3f76c48668>]"
            ]
          },
          "metadata": {
            "tags": []
          },
          "execution_count": 15
        },
        {
          "output_type": "display_data",
          "data": {
            "image/png": "[encoded data removed]",
            "text/plain": [
              "<Figure size 432x288 with 1 Axes>"
            ]
          },
          "metadata": {
            "tags": [],
            "needs_background": "light"
          }
        }
      ]
    },
    {
      "cell_type": "code",
      "metadata": {
        "id": "N7y0Emhwyf1O",
        "outputId": "7e14b098-6a55-40a6-f2e3-0672e4140317",
        "colab": {
          "base_uri": "https://localhost:8080/"
        }
      },
      "source": [
        "## choose k=3\n",
        "y"
      ],
      "execution_count": 16,
      "outputs": [
        {
          "output_type": "execute_result",
          "data": {
            "text/plain": [
              "[0.97, 0.96, 0.92, 0.53, 0.39]"
            ]
          },
          "metadata": {
            "tags": []
          },
          "execution_count": 16
        }
      ]
    },
    {
      "cell_type": "code",
      "metadata": {
        "id": "uYfWN3FP1nFZ"
      },
      "source": [
        "## references: https://towardsdatascience.com/keras-data-generators-and-how-to-use-them-b69129ed779c, https://github.com/sorenlind/keras-knn/blob/master/keras-knn.ipynb, "
      ],
      "execution_count": 8,
      "outputs": []
    }
  ]
}
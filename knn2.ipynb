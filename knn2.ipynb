{
  "nbformat": 4,
  "nbformat_minor": 0,
  "metadata": {
    "colab": {
      "name": "knn2.ipynb",
      "provenance": [],
      "collapsed_sections": [],
      "include_colab_link": true
    },
    "kernelspec": {
      "name": "python3",
      "display_name": "Python 3"
    },
    "accelerator": "GPU"
  },
  "cells": [
    {
      "cell_type": "markdown",
      "metadata": {
        "id": "view-in-github",
        "colab_type": "text"
      },
      "source": [
        "<a href=\"https://colab.research.google.com/github/lauragoon/Face-Mask-Detector/blob/main/knn2.ipynb\" target=\"_parent\"><img src=\"https://colab.research.google.com/assets/colab-badge.svg\" alt=\"Open In Colab\"/></a>"
      ]
    },
    {
      "cell_type": "code",
      "metadata": {
        "id": "Q5yMOGtKIvG0",
        "colab": {
          "base_uri": "https://localhost:8080/"
        },
        "outputId": "1dd722df-b384-43cd-d604-bab7d1c61ee0"
      },
      "source": [
        "from google.colab import drive\n",
        "drive.mount('/content/drive')\n"
      ],
      "execution_count": null,
      "outputs": [
        {
          "output_type": "stream",
          "text": [
            "Drive already mounted at /content/drive; to attempt to forcibly remount, call drive.mount(\"/content/drive\", force_remount=True).\n"
          ],
          "name": "stdout"
        }
      ]
    },
    {
      "cell_type": "code",
      "metadata": {
        "id": "Y3ECrQo2i3vM"
      },
      "source": [
        "import tensorflow as tf\n",
        "import numpy as np\n",
        "from keras.preprocessing import image\n",
        "from keras.applications.resnet50 import ResNet50, preprocess_input\n",
        "from keras.layers import Dense, Reshape\n",
        "from keras.models import Model\n",
        "import matplotlib.pyplot as plt\n",
        "from sklearn.manifold import TSNE\n",
        "import pandas as pd"
      ],
      "execution_count": null,
      "outputs": []
    },
    {
      "cell_type": "code",
      "metadata": {
        "id": "Regd9dNTKl6y"
      },
      "source": [
        "def get_data(batch_size, directory):\n",
        "  \n",
        "  datagen = image.ImageDataGenerator()\n",
        "  dta = datagen.flow_from_directory(directory, class_mode='binary', batch_size=batch_size)\n",
        "\n",
        "  return dta"
      ],
      "execution_count": null,
      "outputs": []
    },
    {
      "cell_type": "code",
      "metadata": {
        "id": "NrSRp2GRY81F"
      },
      "source": [
        "def knn(model, output_size):\n",
        "    vector = np.prod(model.output_shape[1:])\n",
        "    x = Reshape(target_shape=(vector,))(model.output)\n",
        "    x = Dense(units=output_size, activation='linear', use_bias=False)(x)             \n",
        "    knn_model = Model(inputs=[model.input], outputs=x)\n",
        "    return knn_model"
      ],
      "execution_count": null,
      "outputs": []
    },
    {
      "cell_type": "code",
      "metadata": {
        "id": "rktdZy6EY-sE"
      },
      "source": [
        "def normalize_vectors(vectors):\n",
        "    norms = np.linalg.norm(vectors, axis=0)\n",
        "    return vectors / norms"
      ],
      "execution_count": null,
      "outputs": []
    },
    {
      "cell_type": "code",
      "metadata": {
        "id": "qyPI32m2lQFz"
      },
      "source": [
        "def model_accuracy(k, model, test_batch_images, test_batch_class, train_batch_class):\n",
        "  weighted_pred = []\n",
        "  majority_pred = []\n",
        "  difference = 0\n",
        "  for i in test_batch_images:\n",
        "      im = np.expand_dims(i, axis=0)\n",
        "      im = preprocess_input(im)\n",
        "      result = joined_model.predict([im]).reshape(-1)\n",
        "      result_idx = result.argsort()[-k:][::-1]\n",
        "      \n",
        "      ### distance-weighted voting      \n",
        "      w0 = 0\n",
        "      w1 = 0\n",
        "      for i in result_idx:\n",
        "        if train_batch_class[i] == 0:\n",
        "          w0 += (1/result[i])\n",
        "        else:\n",
        "          w1 += (1/result[i])\n",
        "      if w0 > w1:\n",
        "        weighted_pred.append([0])\n",
        "        check = 0\n",
        "      else:\n",
        "        weighted_pred.append([1])\n",
        "        check = 1\n",
        "\n",
        "      ### simple majority voting\n",
        "      result_class = []\n",
        "      for j in result_idx:\n",
        "        result_class.append(train_batch_class[j])\n",
        "      sum_result = round(sum(result_class) / k)\n",
        "      majority_pred.append(sum_result)\n",
        "\n",
        "      if sum_result != check:\n",
        "        difference += 1\n",
        "\n",
        "  print('different predictions between simple majority voting and distance-weighted voting: ', difference)\n",
        "\n",
        "  weighted_acc = 0\n",
        "  for i in range(len(test_batch_class)):\n",
        "    if weighted_pred[i] == test_batch_class[i]:\n",
        "      weighted_acc += 1\n",
        "  \n",
        "  majority_acc = 0\n",
        "  for i in range(len(test_batch_class)):\n",
        "    if majority_pred[i] == test_batch_class[i]:\n",
        "      majority_acc += 1\n",
        "  print('simple majority voting accuracy: ', majority_acc/len(test_batch_class))\n",
        "  print('distance-weighted voting accuracy: ', weighted_acc/len(test_batch_class))\n",
        "\n",
        "  return weighted_acc/len(test_batch_class)"
      ],
      "execution_count": null,
      "outputs": []
    },
    {
      "cell_type": "code",
      "metadata": {
        "id": "zkRW8Ey1vz17",
        "colab": {
          "base_uri": "https://localhost:8080/",
          "height": 955
        },
        "outputId": "50672f93-1500-45d9-be33-2f5f4ca30fda"
      },
      "source": [
        "## generate data\n",
        "train_path = 'drive/Shared drives/DSCI 303 Final Project/ImageDataset2/training'\n",
        "test_path = 'drive/Shared drives/DSCI 303 Final Project/ImageDataset2/test'\n",
        "\n",
        "# train_data = get_data(2000, train_path)\n",
        "test_data = get_data(500, test_path)\n",
        "\n",
        "train_batch_images, train_batch_class = train_data.next()\n",
        "test_batch_images, test_batch_class = test_data.next()\n",
        "\n",
        "print('finished generating batches')\n",
        "\n",
        "## pre-trained neural network to extract features\n",
        "nn_model = ResNet50(input_shape=(256,256,3),\n",
        "                    weights='imagenet',\n",
        "                    include_top=False,\n",
        "                    pooling='avg')\n",
        "\n",
        "## feature extraction\n",
        "img_features = nn_model.predict(train_batch_images).T\n",
        "\n",
        "print('finished feature extraction')\n",
        "\n",
        "## create knn model\n",
        "joined_model = knn(nn_model, img_features.shape[1])\n",
        "\n",
        "## normalize features\n",
        "norm_img_features = normalize_vectors(img_features)\n",
        "tSNE = TSNE().fit_transform(norm_img_features.T)\n",
        "df = pd.DataFrame(tSNE)\n",
        "\n",
        "## set model weights\n",
        "weights = joined_model.get_weights()\n",
        "weights[-1] = norm_img_features\n",
        "joined_model.set_weights(weights)\n",
        "\n",
        "print('built model')\n",
        "\n",
        "# graph k vs accuracy\n",
        "x = [2*i+3 for i in range(12)]\n",
        "y = []\n",
        "\n",
        "for k in x:\n",
        "  y.append(model_accuracy(k, joined_model, test_batch_images, test_batch_class, train_batch_class))\n",
        "  print('plot k=', k)\n",
        "\n",
        "plt.plot(x,y)\n",
        "\n"
      ],
      "execution_count": null,
      "outputs": [
        {
          "output_type": "stream",
          "text": [
            "Found 1012 images belonging to 2 classes.\n",
            "finished generating batches\n",
            "finished feature extraction\n",
            "built model\n",
            "different predictions between simple majority voting and distance-weighted voting:  0\n",
            "simple majority voting accuracy:  0.978\n",
            "distance-weighted voting accuracy:  0.978\n",
            "plot k= 3\n",
            "different predictions between simple majority voting and distance-weighted voting:  0\n",
            "simple majority voting accuracy:  0.978\n",
            "distance-weighted voting accuracy:  0.978\n",
            "plot k= 5\n",
            "different predictions between simple majority voting and distance-weighted voting:  0\n",
            "simple majority voting accuracy:  0.928\n",
            "distance-weighted voting accuracy:  0.928\n",
            "plot k= 7\n",
            "different predictions between simple majority voting and distance-weighted voting:  0\n",
            "simple majority voting accuracy:  0.598\n",
            "distance-weighted voting accuracy:  0.598\n",
            "plot k= 9\n",
            "different predictions between simple majority voting and distance-weighted voting:  0\n",
            "simple majority voting accuracy:  0.338\n",
            "distance-weighted voting accuracy:  0.338\n",
            "plot k= 11\n",
            "different predictions between simple majority voting and distance-weighted voting:  0\n",
            "simple majority voting accuracy:  0.808\n",
            "distance-weighted voting accuracy:  0.808\n",
            "plot k= 13\n",
            "different predictions between simple majority voting and distance-weighted voting:  0\n",
            "simple majority voting accuracy:  0.882\n",
            "distance-weighted voting accuracy:  0.882\n",
            "plot k= 15\n",
            "different predictions between simple majority voting and distance-weighted voting:  0\n",
            "simple majority voting accuracy:  0.882\n",
            "distance-weighted voting accuracy:  0.882\n",
            "plot k= 17\n",
            "different predictions between simple majority voting and distance-weighted voting:  0\n",
            "simple majority voting accuracy:  0.882\n",
            "distance-weighted voting accuracy:  0.882\n",
            "plot k= 19\n",
            "different predictions between simple majority voting and distance-weighted voting:  0\n",
            "simple majority voting accuracy:  0.882\n",
            "distance-weighted voting accuracy:  0.882\n",
            "plot k= 21\n",
            "different predictions between simple majority voting and distance-weighted voting:  0\n",
            "simple majority voting accuracy:  0.882\n",
            "distance-weighted voting accuracy:  0.882\n",
            "plot k= 23\n",
            "different predictions between simple majority voting and distance-weighted voting:  0\n",
            "simple majority voting accuracy:  0.882\n",
            "distance-weighted voting accuracy:  0.882\n",
            "plot k= 25\n"
          ],
          "name": "stdout"
        },
        {
          "output_type": "execute_result",
          "data": {
            "text/plain": [
              "[<matplotlib.lines.Line2D at 0x7feb91f53748>]"
            ]
          },
          "metadata": {
            "tags": []
          },
          "execution_count": 10
        },
        {
          "output_type": "display_data",
          "data": {
            "image/png": "[encoded data removed]",
            "text/plain": [
              "<Figure size 432x288 with 1 Axes>"
            ]
          },
          "metadata": {
            "tags": [],
            "needs_background": "light"
          }
        }
      ]
    },
    {
      "cell_type": "code",
      "metadata": {
        "id": "wrazJ6IgVPgy"
      },
      "source": [
        "plt.scatter(df.iloc[:, 0], df.iloc[:, 1], c=train_batch_class)"
      ],
      "execution_count": null,
      "outputs": []
    },
    {
      "cell_type": "code",
      "metadata": {
        "id": "N7y0Emhwyf1O"
      },
      "source": [
        "## choose k=3\n",
        "y"
      ],
      "execution_count": null,
      "outputs": []
    },
    {
      "cell_type": "code",
      "metadata": {
        "id": "uYfWN3FP1nFZ"
      },
      "source": [
        "## references: https://towardsdatascience.com/keras-data-generators-and-how-to-use-them-b69129ed779c, https://github.com/sorenlind/keras-knn/blob/master/keras-knn.ipynb, "
      ],
      "execution_count": null,
      "outputs": []
    },
    {
      "cell_type": "code",
      "metadata": {
        "id": "S9Iip6Gdn7an"
      },
      "source": [
        "joined_model.save('knn.h5')"
      ],
      "execution_count": 11,
      "outputs": []
    },
    {
      "cell_type": "code",
      "metadata": {
        "id": "A86OYK3jLqXW"
      },
      "source": [
        ""
      ],
      "execution_count": null,
      "outputs": []
    }
  ]
}
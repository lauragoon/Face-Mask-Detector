{
  "nbformat": 4,
  "nbformat_minor": 0,
  "metadata": {
    "colab": {
      "name": "svm.ipynb",
      "provenance": [],
      "collapsed_sections": [],
      "authorship_tag": "ABX9TyM246OVPG4XlfCLSWFh6RaF",
      "include_colab_link": true
    },
    "kernelspec": {
      "name": "python3",
      "display_name": "Python 3"
    }
  },
  "cells": [
    {
      "cell_type": "markdown",
      "metadata": {
        "id": "view-in-github",
        "colab_type": "text"
      },
      "source": [
        "<a href=\"https://colab.research.google.com/github/lauragoon/Face-Mask-Detector/blob/main/svm.ipynb\" target=\"_parent\"><img src=\"https://colab.research.google.com/assets/colab-badge.svg\" alt=\"Open In Colab\"/></a>"
      ]
    },
    {
      "cell_type": "code",
      "metadata": {
        "id": "WUXna1d6ztle"
      },
      "source": [
        "import tensorflow as tf\n",
        "import numpy as np\n",
        "from keras.preprocessing import image\n",
        "import matplotlib.pyplot as plt\n",
        "from sklearn import svm"
      ],
      "execution_count": null,
      "outputs": []
    },
    {
      "cell_type": "code",
      "metadata": {
        "id": "7jLphlXtoNv7"
      },
      "source": [
        "def get_data(batch_size, directory):\n",
        "  \n",
        "  datagen = image.ImageDataGenerator()\n",
        "  dta = datagen.flow_from_directory(directory, class_mode='binary', batch_size=100)\n",
        "\n",
        "  return dta"
      ],
      "execution_count": null,
      "outputs": []
    },
    {
      "cell_type": "code",
      "metadata": {
        "id": "k9cBz5Azuej9"
      },
      "source": [
        "def svm(images, image_classes):\n",
        "    slassifier = svm.SVC()\n",
        "    classifier.fit(images, image_classes)\n",
        "    return classifier"
      ],
      "execution_count": null,
      "outputs": []
    },
    {
      "cell_type": "code",
      "metadata": {
        "id": "NYxH6-hNr1LD"
      },
      "source": [
        "## generate data\n",
        "train_path = 'drive/Shared drives/DSCI 303 Final Project/ImageDataset/training'\n",
        "test_path = 'drive/Shared drives/DSCI 303 Final Project/ImageDataset/test'\n",
        "\n",
        "train_data = get_data(100, train_path)\n",
        "test_data = get_data(50, test_path)\n",
        "\n",
        "train_batch_images, train_batch_class = train_data.next()\n",
        "test_batch_images, test_batch_class = test_data.next()\n",
        "\n",
        "## fit svm\n",
        "classifier = svm(train_batch_images, train_batch_class)"
      ],
      "execution_count": null,
      "outputs": []
    }
  ]
}